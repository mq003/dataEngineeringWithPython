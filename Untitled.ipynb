{
 "cells": [
  {
   "cell_type": "markdown",
   "id": "9eac3e5a",
   "metadata": {},
   "source": [
    "# Data Engineering with Python"
   ]
  },
  {
   "cell_type": "markdown",
   "id": "26f8e80a",
   "metadata": {},
   "source": [
    "Python Tutorial Tasks from the book Data Engineering with Python"
   ]
  },
  {
   "cell_type": "code",
   "execution_count": 17,
   "id": "d39e5f52",
   "metadata": {},
   "outputs": [
    {
     "name": "stdout",
     "output_type": "stream",
     "text": [
      "Requirement already satisfied: faker in d:\\anaconda\\envs\\data_engineer\\lib\\site-packages (8.8.1)\n",
      "Requirement already satisfied: text-unidecode==1.3 in d:\\anaconda\\envs\\data_engineer\\lib\\site-packages (from faker) (1.3)\n",
      "Requirement already satisfied: python-dateutil>=2.4 in d:\\anaconda\\envs\\data_engineer\\lib\\site-packages (from faker) (2.8.1)\n",
      "Requirement already satisfied: six>=1.5 in d:\\anaconda\\envs\\data_engineer\\lib\\site-packages (from python-dateutil>=2.4->faker) (1.15.0)\n",
      "Collecting pandas\n",
      "  Using cached pandas-1.2.4-cp38-cp38-win_amd64.whl (9.3 MB)\n",
      "Requirement already satisfied: python-dateutil>=2.7.3 in d:\\anaconda\\envs\\data_engineer\\lib\\site-packages (from pandas) (2.8.1)\n",
      "Collecting numpy>=1.16.5\n",
      "  Downloading numpy-1.20.3-cp38-cp38-win_amd64.whl (13.7 MB)\n",
      "Collecting pytz>=2017.3\n",
      "  Using cached pytz-2021.1-py2.py3-none-any.whl (510 kB)\n",
      "Requirement already satisfied: six>=1.5 in d:\\anaconda\\envs\\data_engineer\\lib\\site-packages (from python-dateutil>=2.7.3->pandas) (1.15.0)\n",
      "Installing collected packages: pytz, numpy, pandas\n",
      "Successfully installed numpy-1.20.3 pandas-1.2.4 pytz-2021.1\n"
     ]
    }
   ],
   "source": [
    "# install packages\n",
    "!pip3 install faker\n",
    "!pip3 install pandas"
   ]
  },
  {
   "cell_type": "code",
   "execution_count": 96,
   "id": "522b42c8",
   "metadata": {},
   "outputs": [],
   "source": [
    "#imports\n",
    "\n",
    "from faker import Faker #fake data\n",
    "import csv #write, read csv files\n",
    "import pandas as pd #dataframes\n",
    "import json #json\n",
    "import pandas.io.json as pd_JSON #for json"
   ]
  },
  {
   "cell_type": "code",
   "execution_count": 16,
   "id": "a755cf9f",
   "metadata": {},
   "outputs": [],
   "source": [
    "#create a csv filw with 1000 lines of fake data for 'name','age','street','city','state','zip','lng','lat'\n",
    "\n",
    "with open('data.csv', 'w') as file:\n",
    "    fake=Faker()\n",
    "    header=['name','age','street','city','state','zip','lng','lat']\n",
    "    mywriter=csv.writer(file)\n",
    "    mywriter.writerow(header)\n",
    "    for r in range(1000):\n",
    "        mywriter.writerow([fake.name(),fake.random_int(min=18,max=80,step=1),\n",
    "                           fake.street_address(), fake.city(),fake.state(),fake.zipcode(),fake.longitude(),fake.latitude()])\n",
    "        output.close()"
   ]
  },
  {
   "cell_type": "code",
   "execution_count": 21,
   "id": "d530c896",
   "metadata": {},
   "outputs": [
    {
     "data": {
      "text/html": [
       "<div>\n",
       "<style scoped>\n",
       "    .dataframe tbody tr th:only-of-type {\n",
       "        vertical-align: middle;\n",
       "    }\n",
       "\n",
       "    .dataframe tbody tr th {\n",
       "        vertical-align: top;\n",
       "    }\n",
       "\n",
       "    .dataframe thead th {\n",
       "        text-align: right;\n",
       "    }\n",
       "</style>\n",
       "<table border=\"1\" class=\"dataframe\">\n",
       "  <thead>\n",
       "    <tr style=\"text-align: right;\">\n",
       "      <th></th>\n",
       "      <th>name</th>\n",
       "      <th>age</th>\n",
       "      <th>street</th>\n",
       "      <th>city</th>\n",
       "      <th>state</th>\n",
       "      <th>zip</th>\n",
       "      <th>lng</th>\n",
       "      <th>lat</th>\n",
       "    </tr>\n",
       "  </thead>\n",
       "  <tbody>\n",
       "    <tr>\n",
       "      <th>0</th>\n",
       "      <td>Susan Burns</td>\n",
       "      <td>72</td>\n",
       "      <td>092 Mckenzie Corners</td>\n",
       "      <td>Maysport</td>\n",
       "      <td>Mississippi</td>\n",
       "      <td>84674</td>\n",
       "      <td>-105.664197</td>\n",
       "      <td>-12.584788</td>\n",
       "    </tr>\n",
       "    <tr>\n",
       "      <th>1</th>\n",
       "      <td>Jonathan Obrien</td>\n",
       "      <td>41</td>\n",
       "      <td>73459 Conley Estate Suite 598</td>\n",
       "      <td>Lake Sean</td>\n",
       "      <td>Texas</td>\n",
       "      <td>57309</td>\n",
       "      <td>-20.605746</td>\n",
       "      <td>79.979062</td>\n",
       "    </tr>\n",
       "    <tr>\n",
       "      <th>2</th>\n",
       "      <td>Daniel Howard</td>\n",
       "      <td>33</td>\n",
       "      <td>85074 James Mountain</td>\n",
       "      <td>Laurenfurt</td>\n",
       "      <td>Illinois</td>\n",
       "      <td>77714</td>\n",
       "      <td>76.868764</td>\n",
       "      <td>78.721298</td>\n",
       "    </tr>\n",
       "    <tr>\n",
       "      <th>3</th>\n",
       "      <td>Kelli Mccarthy</td>\n",
       "      <td>33</td>\n",
       "      <td>0919 Mcintyre Ways</td>\n",
       "      <td>Randyhaven</td>\n",
       "      <td>Minnesota</td>\n",
       "      <td>20868</td>\n",
       "      <td>-25.195507</td>\n",
       "      <td>-20.566312</td>\n",
       "    </tr>\n",
       "    <tr>\n",
       "      <th>4</th>\n",
       "      <td>Brittney Cain</td>\n",
       "      <td>30</td>\n",
       "      <td>704 Sims Mews</td>\n",
       "      <td>Monicastad</td>\n",
       "      <td>Kentucky</td>\n",
       "      <td>95930</td>\n",
       "      <td>172.019505</td>\n",
       "      <td>-43.369373</td>\n",
       "    </tr>\n",
       "    <tr>\n",
       "      <th>5</th>\n",
       "      <td>Karina Keller</td>\n",
       "      <td>80</td>\n",
       "      <td>538 Rebekah Forks Apt. 381</td>\n",
       "      <td>Johnport</td>\n",
       "      <td>Delaware</td>\n",
       "      <td>7666</td>\n",
       "      <td>-94.523530</td>\n",
       "      <td>-19.171090</td>\n",
       "    </tr>\n",
       "    <tr>\n",
       "      <th>6</th>\n",
       "      <td>Danielle Simpson</td>\n",
       "      <td>80</td>\n",
       "      <td>631 Collins Ramp</td>\n",
       "      <td>Port Davidtown</td>\n",
       "      <td>Arizona</td>\n",
       "      <td>70260</td>\n",
       "      <td>-87.031903</td>\n",
       "      <td>-78.321061</td>\n",
       "    </tr>\n",
       "    <tr>\n",
       "      <th>7</th>\n",
       "      <td>Edward Mendoza</td>\n",
       "      <td>50</td>\n",
       "      <td>511 Bennett Coves Apt. 392</td>\n",
       "      <td>Lake Jaimetown</td>\n",
       "      <td>Oklahoma</td>\n",
       "      <td>44785</td>\n",
       "      <td>10.344696</td>\n",
       "      <td>11.673296</td>\n",
       "    </tr>\n",
       "    <tr>\n",
       "      <th>8</th>\n",
       "      <td>Samuel Foster MD</td>\n",
       "      <td>24</td>\n",
       "      <td>97076 Audrey Streets Suite 470</td>\n",
       "      <td>Shannonport</td>\n",
       "      <td>Maryland</td>\n",
       "      <td>33803</td>\n",
       "      <td>125.665114</td>\n",
       "      <td>-57.088138</td>\n",
       "    </tr>\n",
       "    <tr>\n",
       "      <th>9</th>\n",
       "      <td>Michael Harrington</td>\n",
       "      <td>37</td>\n",
       "      <td>602 Torres Tunnel Apt. 459</td>\n",
       "      <td>Oliviamouth</td>\n",
       "      <td>Utah</td>\n",
       "      <td>92685</td>\n",
       "      <td>130.245758</td>\n",
       "      <td>-72.902199</td>\n",
       "    </tr>\n",
       "  </tbody>\n",
       "</table>\n",
       "</div>"
      ],
      "text/plain": [
       "                 name  age                          street            city  \\\n",
       "0         Susan Burns   72            092 Mckenzie Corners        Maysport   \n",
       "1     Jonathan Obrien   41   73459 Conley Estate Suite 598       Lake Sean   \n",
       "2       Daniel Howard   33            85074 James Mountain      Laurenfurt   \n",
       "3      Kelli Mccarthy   33              0919 Mcintyre Ways      Randyhaven   \n",
       "4       Brittney Cain   30                   704 Sims Mews      Monicastad   \n",
       "5       Karina Keller   80      538 Rebekah Forks Apt. 381        Johnport   \n",
       "6    Danielle Simpson   80                631 Collins Ramp  Port Davidtown   \n",
       "7      Edward Mendoza   50      511 Bennett Coves Apt. 392  Lake Jaimetown   \n",
       "8    Samuel Foster MD   24  97076 Audrey Streets Suite 470     Shannonport   \n",
       "9  Michael Harrington   37      602 Torres Tunnel Apt. 459     Oliviamouth   \n",
       "\n",
       "         state    zip         lng        lat  \n",
       "0  Mississippi  84674 -105.664197 -12.584788  \n",
       "1        Texas  57309  -20.605746  79.979062  \n",
       "2     Illinois  77714   76.868764  78.721298  \n",
       "3    Minnesota  20868  -25.195507 -20.566312  \n",
       "4     Kentucky  95930  172.019505 -43.369373  \n",
       "5     Delaware   7666  -94.523530 -19.171090  \n",
       "6      Arizona  70260  -87.031903 -78.321061  \n",
       "7     Oklahoma  44785   10.344696  11.673296  \n",
       "8     Maryland  33803  125.665114 -57.088138  \n",
       "9         Utah  92685  130.245758 -72.902199  "
      ]
     },
     "execution_count": 21,
     "metadata": {},
     "output_type": "execute_result"
    }
   ],
   "source": [
    "#read data.csv with pandas\n",
    "\n",
    "df=pd.read_csv('data.CSV')\n",
    "df.head(10)"
   ]
  },
  {
   "cell_type": "code",
   "execution_count": 90,
   "id": "0a1d39cf",
   "metadata": {},
   "outputs": [],
   "source": [
    "#write json with the fake data\n",
    "\n",
    "output=open('data.JSON','w')\n",
    "fake=Faker()\n",
    "\n",
    "alldata={}\n",
    "alldata['records']=[]\n",
    "\n",
    "for x in range(100):\n",
    "    data={\"name\":fake.name(),\"age\":fake.random_int\n",
    "            (min=18, max=80, step=1),\n",
    "            \"street\":fake.street_address(),\n",
    "            \"city\":fake.city(),\"state\":fake.state(),\n",
    "            \"zip\":fake.zipcode(),\n",
    "            \"lng\":float(fake.longitude()),\n",
    "            \"lat\":float(fake.latitude())}\n",
    "    alldata['records'].append(data)\n",
    "    #display(alldata)"
   ]
  },
  {
   "cell_type": "code",
   "execution_count": 91,
   "id": "50dc9130",
   "metadata": {},
   "outputs": [],
   "source": [
    "#write to json file\n",
    "json.dump(alldata,output, indent=4, sort_keys=True)"
   ]
  },
  {
   "cell_type": "code",
   "execution_count": 94,
   "id": "f9d1004b",
   "metadata": {},
   "outputs": [],
   "source": [
    "with open(\"data.JSON\",\"r\") as f:\n",
    "    data=json.load(f)"
   ]
  },
  {
   "cell_type": "code",
   "execution_count": 93,
   "id": "1662fe57",
   "metadata": {},
   "outputs": [
    {
     "data": {
      "text/plain": [
       "9"
      ]
     },
     "execution_count": 93,
     "metadata": {},
     "output_type": "execute_result"
    }
   ],
   "source": [
    "str(alldata['records']).find(' ')"
   ]
  },
  {
   "cell_type": "code",
   "execution_count": 95,
   "id": "a0ccdcc2",
   "metadata": {},
   "outputs": [],
   "source": [
    "df=pd.read_json('data.JSON')"
   ]
  },
  {
   "cell_type": "code",
   "execution_count": 97,
   "id": "200c938f",
   "metadata": {},
   "outputs": [],
   "source": [
    "f=open('data.JSON','r')\n",
    "data=pd_JSON.loads(f.read())"
   ]
  },
  {
   "cell_type": "code",
   "execution_count": 99,
   "id": "d8e59205",
   "metadata": {},
   "outputs": [
    {
     "name": "stderr",
     "output_type": "stream",
     "text": [
      "<ipython-input-99-a64d0f77fb39>:1: FutureWarning: pandas.io.json.json_normalize is deprecated, use pandas.json_normalize instead\n",
      "  df=pd_JSON.json_normalize(data,record_path='records')\n"
     ]
    }
   ],
   "source": [
    "df=pd_JSON.json_normalize(data,record_path='records')"
   ]
  },
  {
   "cell_type": "code",
   "execution_count": 100,
   "id": "5d7e94fb",
   "metadata": {},
   "outputs": [
    {
     "data": {
      "text/plain": [
       "'{\"age\":{\"0\":28,\"1\":78},\"city\":{\"0\":\"East Brandonhaven\",\"1\":\"Lake Adrian\"},\"lat\":{\"0\":-2.34682,\"1\":89.988444},\"lng\":{\"0\":18.985955,\"1\":117.615465},\"name\":{\"0\":\"Chad Baxter\",\"1\":\"Cheryl Bruce\"},\"state\":{\"0\":\"Florida\",\"1\":\"Wisconsin\"},\"street\":{\"0\":\"683 Sims Junction Apt. 126\",\"1\":\"61260 Cooper Locks Apt. 248\"},\"zip\":{\"0\":\"70644\",\"1\":\"17457\"}}'"
      ]
     },
     "execution_count": 100,
     "metadata": {},
     "output_type": "execute_result"
    }
   ],
   "source": [
    "df.head(2).to_json()"
   ]
  },
  {
   "cell_type": "code",
   "execution_count": 102,
   "id": "d4ca7824",
   "metadata": {},
   "outputs": [
    {
     "data": {
      "text/plain": [
       "'[{\"age\":28,\"city\":\"East Brandonhaven\",\"lat\":-2.34682,\"lng\":18.985955,\"name\":\"Chad Baxter\",\"state\":\"Florida\",\"street\":\"683 Sims Junction Apt. 126\",\"zip\":\"70644\"},{\"age\":78,\"city\":\"Lake Adrian\",\"lat\":89.988444,\"lng\":117.615465,\"name\":\"Cheryl Bruce\",\"state\":\"Wisconsin\",\"street\":\"61260 Cooper Locks Apt. 248\",\"zip\":\"17457\"}]'"
      ]
     },
     "execution_count": 102,
     "metadata": {},
     "output_type": "execute_result"
    }
   ],
   "source": [
    "df.head(2).to_json(orient='records')"
   ]
  },
  {
   "cell_type": "code",
   "execution_count": 104,
   "id": "e807378b",
   "metadata": {},
   "outputs": [
    {
     "data": {
      "text/plain": [
       "datetime.date(2021, 6, 22)"
      ]
     },
     "execution_count": 104,
     "metadata": {},
     "output_type": "execute_result"
    }
   ],
   "source": [
    "from datetime import date\n",
    "str()"
   ]
  },
  {
   "cell_type": "code",
   "execution_count": null,
   "id": "95ab98f2",
   "metadata": {},
   "outputs": [],
   "source": []
  }
 ],
 "metadata": {
  "kernelspec": {
   "display_name": "Python 3",
   "language": "python",
   "name": "python3"
  },
  "language_info": {
   "codemirror_mode": {
    "name": "ipython",
    "version": 3
   },
   "file_extension": ".py",
   "mimetype": "text/x-python",
   "name": "python",
   "nbconvert_exporter": "python",
   "pygments_lexer": "ipython3",
   "version": "3.8.8"
  }
 },
 "nbformat": 4,
 "nbformat_minor": 5
}
